{
 "cells": [
  {
   "cell_type": "code",
   "execution_count": 1,
   "id": "04585313",
   "metadata": {},
   "outputs": [],
   "source": [
    "import re\n",
    "import json\n",
    "import pandas as pd\n",
    "from IPython.display import display\n",
    "\n",
    "pd.set_option(\"display.max_colwidth\", 4000)\n",
    "\n",
    "with open(\"train_samples.jsonl\", \"r\") as f:\n",
    "    lines = [l.strip() for l in f]\n",
    "\n",
    "df = pd.DataFrame([json.loads(l) for l in lines])"
   ]
  },
  {
   "cell_type": "markdown",
   "id": "d378f0b6",
   "metadata": {},
   "source": [
    "# Investigate NYT kickers in NewsRoom\n",
    "Check if any of the summaries in NewsRoom is one of the kickers in NYT dataset"
   ]
  },
  {
   "cell_type": "code",
   "execution_count": 2,
   "id": "372ba389",
   "metadata": {},
   "outputs": [],
   "source": [
    "with open(\"kickers.txt\", \"r\") as f:\n",
    "    kickers = [l.strip().split('\"')[1].lower() for l in f]\n",
    "\n",
    "kickers = set(kickers)"
   ]
  },
  {
   "cell_type": "code",
   "execution_count": 3,
   "id": "2638940a",
   "metadata": {},
   "outputs": [
    {
     "data": {
      "text/plain": [
       "(10000, 12)"
      ]
     },
     "execution_count": 3,
     "metadata": {},
     "output_type": "execute_result"
    }
   ],
   "source": [
    "df.shape"
   ]
  },
  {
   "cell_type": "code",
   "execution_count": 4,
   "id": "7bff0da8",
   "metadata": {},
   "outputs": [
    {
     "data": {
      "text/plain": [
       "Index(['url', 'archive', 'title', 'date', 'text', 'summary', 'compression',\n",
       "       'coverage', 'density', 'compression_bin', 'coverage_bin',\n",
       "       'density_bin'],\n",
       "      dtype='object')"
      ]
     },
     "execution_count": 4,
     "metadata": {},
     "output_type": "execute_result"
    }
   ],
   "source": [
    "df.columns"
   ]
  },
  {
   "cell_type": "code",
   "execution_count": 5,
   "id": "7db242ed",
   "metadata": {},
   "outputs": [
    {
     "data": {
      "text/html": [
       "<div>\n",
       "<style scoped>\n",
       "    .dataframe tbody tr th:only-of-type {\n",
       "        vertical-align: middle;\n",
       "    }\n",
       "\n",
       "    .dataframe tbody tr th {\n",
       "        vertical-align: top;\n",
       "    }\n",
       "\n",
       "    .dataframe thead th {\n",
       "        text-align: right;\n",
       "    }\n",
       "</style>\n",
       "<table border=\"1\" class=\"dataframe\">\n",
       "  <thead>\n",
       "    <tr style=\"text-align: right;\">\n",
       "      <th></th>\n",
       "      <th>title</th>\n",
       "      <th>summary</th>\n",
       "    </tr>\n",
       "  </thead>\n",
       "  <tbody>\n",
       "  </tbody>\n",
       "</table>\n",
       "</div>"
      ],
      "text/plain": [
       "Empty DataFrame\n",
       "Columns: [title, summary]\n",
       "Index: []"
      ]
     },
     "execution_count": 5,
     "metadata": {},
     "output_type": "execute_result"
    }
   ],
   "source": [
    "# Only those samples use NYT kickers as summaries\n",
    "df[df[\"summary\"].apply(lambda s: s.lower().strip() in kickers)][[\"title\", \"summary\"]]"
   ]
  },
  {
   "cell_type": "markdown",
   "id": "7730a83c",
   "metadata": {},
   "source": [
    "# Modifications to the density metric\n",
    "- Redefine the density\n",
    "    \n",
    "    $ModifiedDensity = \\frac{OldDensity}{|S|} ;$\n",
    "\n",
    "    $0 <= ModifiedDensity <= 1$\n",
    "\n",
    "    - Why does it make sense to do so?\n",
    "    - Normalized metric (not affected by summary length)\n",
    "    - More harsh on shorter summaries (because of how thersholding works)\n",
    "    - Check the example on paper\n",
    "\n",
    "- Use the 33% and 66% for finding the thresholds that divide articles into abstractive, mixed and extractive\n",
    "\n",
    "- Do we need hyperparameter tuning for th1, th2 and cov_th?"
   ]
  },
  {
   "cell_type": "code",
   "execution_count": 6,
   "id": "36326e7c",
   "metadata": {},
   "outputs": [],
   "source": [
    "import spacy\n",
    "\n",
    "nlp = spacy.load(\"en_core_web_sm\")"
   ]
  },
  {
   "cell_type": "code",
   "execution_count": 7,
   "id": "724b789a",
   "metadata": {},
   "outputs": [],
   "source": [
    "from tqdm import tqdm\n",
    "\n",
    "tqdm.pandas()"
   ]
  },
  {
   "cell_type": "code",
   "execution_count": 8,
   "id": "4d8d1ca5",
   "metadata": {},
   "outputs": [
    {
     "name": "stderr",
     "output_type": "stream",
     "text": [
      "100%|████████████████████████████████████████████████████████████████| 10000/10000 [00:00<00:00, 19996.44it/s]\n",
      "100%|██████████████████████████████████████████████████████████████████| 10000/10000 [01:14<00:00, 133.81it/s]\n"
     ]
    }
   ],
   "source": [
    "df[\"text_len\"] = df[\"text\"].progress_apply(lambda s: len(str(s).split()))\n",
    "\n",
    "# Use spacy to compute the number of tokens in a summary\n",
    "df[\"summary_len\"] = df[\"summary\"].progress_apply(\n",
    "    lambda s: len([t.text for t in nlp(s)])\n",
    ")"
   ]
  },
  {
   "cell_type": "code",
   "execution_count": 9,
   "id": "a3d1985e",
   "metadata": {},
   "outputs": [],
   "source": [
    "df[\"modified_density\"] = df[\"density\"] / df[\"summary_len\"]"
   ]
  },
  {
   "cell_type": "code",
   "execution_count": 10,
   "id": "ed951840",
   "metadata": {},
   "outputs": [
    {
     "data": {
      "text/plain": [
       "(0.07958477508823529, 0.2988165680461538)"
      ]
     },
     "execution_count": 10,
     "metadata": {},
     "output_type": "execute_result"
    }
   ],
   "source": [
    "# Find the new thresholds\n",
    "th1, th2 = df[\"modified_density\"].quantile(1/3), df[\"modified_density\"].quantile(2/3)\n",
    "cov_th = 0.85\n",
    "\n",
    "th1, th2"
   ]
  },
  {
   "cell_type": "code",
   "execution_count": 11,
   "id": "36690875",
   "metadata": {},
   "outputs": [],
   "source": [
    "# Don't also consider high coverage summaries as abstractive ones\n",
    "df[\"modified_density_bin\"] = df.apply(\n",
    "    lambda row: \"abstractive\"\n",
    "    if row[\"modified_density\"] <= th1 and row[\"coverage\"] <=cov_th\n",
    "    else \"mixed\"\n",
    "    if row[\"modified_density\"] <= th2\n",
    "    else \"extractive\",\n",
    "    axis=1,\n",
    ")"
   ]
  },
  {
   "cell_type": "code",
   "execution_count": 12,
   "id": "bf15274e",
   "metadata": {},
   "outputs": [
    {
     "data": {
      "text/plain": [
       "mixed          3690\n",
       "extractive     3334\n",
       "abstractive    2976\n",
       "Name: modified_density_bin, dtype: int64"
      ]
     },
     "execution_count": 12,
     "metadata": {},
     "output_type": "execute_result"
    }
   ],
   "source": [
    "# Adding a threshold for the coverage isn't that destructive\n",
    "# The number of samples per bin is nearly preserved\n",
    "df[\"modified_density_bin\"].value_counts()"
   ]
  },
  {
   "cell_type": "code",
   "execution_count": 13,
   "id": "b4b239e9",
   "metadata": {},
   "outputs": [
    {
     "data": {
      "text/html": [
       "<div>\n",
       "<style scoped>\n",
       "    .dataframe tbody tr th:only-of-type {\n",
       "        vertical-align: middle;\n",
       "    }\n",
       "\n",
       "    .dataframe tbody tr th {\n",
       "        vertical-align: top;\n",
       "    }\n",
       "\n",
       "    .dataframe thead th {\n",
       "        text-align: right;\n",
       "    }\n",
       "</style>\n",
       "<table border=\"1\" class=\"dataframe\">\n",
       "  <thead>\n",
       "    <tr style=\"text-align: right;\">\n",
       "      <th></th>\n",
       "      <th>count</th>\n",
       "      <th>mean</th>\n",
       "      <th>std</th>\n",
       "      <th>min</th>\n",
       "      <th>25%</th>\n",
       "      <th>50%</th>\n",
       "      <th>75%</th>\n",
       "      <th>max</th>\n",
       "    </tr>\n",
       "    <tr>\n",
       "      <th>density_bin</th>\n",
       "      <th></th>\n",
       "      <th></th>\n",
       "      <th></th>\n",
       "      <th></th>\n",
       "      <th></th>\n",
       "      <th></th>\n",
       "      <th></th>\n",
       "      <th></th>\n",
       "    </tr>\n",
       "  </thead>\n",
       "  <tbody>\n",
       "    <tr>\n",
       "      <th>abstractive</th>\n",
       "      <td>3301.0</td>\n",
       "      <td>0.942849</td>\n",
       "      <td>0.342498</td>\n",
       "      <td>0.000000</td>\n",
       "      <td>0.700000</td>\n",
       "      <td>0.976190</td>\n",
       "      <td>1.217391</td>\n",
       "      <td>1.500000</td>\n",
       "    </tr>\n",
       "    <tr>\n",
       "      <th>mixed</th>\n",
       "      <td>3291.0</td>\n",
       "      <td>3.406941</td>\n",
       "      <td>1.834874</td>\n",
       "      <td>1.510638</td>\n",
       "      <td>1.912404</td>\n",
       "      <td>2.692308</td>\n",
       "      <td>4.500000</td>\n",
       "      <td>8.187500</td>\n",
       "    </tr>\n",
       "    <tr>\n",
       "      <th>extractive</th>\n",
       "      <td>3408.0</td>\n",
       "      <td>23.652977</td>\n",
       "      <td>13.932746</td>\n",
       "      <td>8.192308</td>\n",
       "      <td>13.584295</td>\n",
       "      <td>20.028595</td>\n",
       "      <td>29.986726</td>\n",
       "      <td>133.122807</td>\n",
       "    </tr>\n",
       "  </tbody>\n",
       "</table>\n",
       "</div>"
      ],
      "text/plain": [
       "              count       mean        std       min        25%        50%  \\\n",
       "density_bin                                                                 \n",
       "abstractive  3301.0   0.942849   0.342498  0.000000   0.700000   0.976190   \n",
       "mixed        3291.0   3.406941   1.834874  1.510638   1.912404   2.692308   \n",
       "extractive   3408.0  23.652977  13.932746  8.192308  13.584295  20.028595   \n",
       "\n",
       "                   75%         max  \n",
       "density_bin                         \n",
       "abstractive   1.217391    1.500000  \n",
       "mixed         4.500000    8.187500  \n",
       "extractive   29.986726  133.122807  "
      ]
     },
     "execution_count": 13,
     "metadata": {},
     "output_type": "execute_result"
    }
   ],
   "source": [
    "df.groupby(\"density_bin\")[\"density\"].describe().sort_index(\n",
    "    key=lambda ind: [\n",
    "        \"2\" if (x == \"extractive\") else \"1\" if (x == \"mixed\") else \"0\" for x in ind\n",
    "    ]\n",
    ")"
   ]
  },
  {
   "cell_type": "code",
   "execution_count": 14,
   "id": "a8c2ee66",
   "metadata": {},
   "outputs": [
    {
     "data": {
      "text/html": [
       "<div>\n",
       "<style scoped>\n",
       "    .dataframe tbody tr th:only-of-type {\n",
       "        vertical-align: middle;\n",
       "    }\n",
       "\n",
       "    .dataframe tbody tr th {\n",
       "        vertical-align: top;\n",
       "    }\n",
       "\n",
       "    .dataframe thead th {\n",
       "        text-align: right;\n",
       "    }\n",
       "</style>\n",
       "<table border=\"1\" class=\"dataframe\">\n",
       "  <thead>\n",
       "    <tr style=\"text-align: right;\">\n",
       "      <th></th>\n",
       "      <th>count</th>\n",
       "      <th>mean</th>\n",
       "      <th>std</th>\n",
       "      <th>min</th>\n",
       "      <th>25%</th>\n",
       "      <th>50%</th>\n",
       "      <th>75%</th>\n",
       "      <th>max</th>\n",
       "    </tr>\n",
       "    <tr>\n",
       "      <th>modified_density_bin</th>\n",
       "      <th></th>\n",
       "      <th></th>\n",
       "      <th></th>\n",
       "      <th></th>\n",
       "      <th></th>\n",
       "      <th></th>\n",
       "      <th></th>\n",
       "      <th></th>\n",
       "    </tr>\n",
       "  </thead>\n",
       "  <tbody>\n",
       "    <tr>\n",
       "      <th>abstractive</th>\n",
       "      <td>2976.0</td>\n",
       "      <td>0.043921</td>\n",
       "      <td>0.019004</td>\n",
       "      <td>0.000000</td>\n",
       "      <td>0.029893</td>\n",
       "      <td>0.044741</td>\n",
       "      <td>0.058642</td>\n",
       "      <td>0.079585</td>\n",
       "    </tr>\n",
       "    <tr>\n",
       "      <th>mixed</th>\n",
       "      <td>3690.0</td>\n",
       "      <td>0.147823</td>\n",
       "      <td>0.065368</td>\n",
       "      <td>0.027489</td>\n",
       "      <td>0.094675</td>\n",
       "      <td>0.130194</td>\n",
       "      <td>0.195285</td>\n",
       "      <td>0.298776</td>\n",
       "    </tr>\n",
       "    <tr>\n",
       "      <th>extractive</th>\n",
       "      <td>3334.0</td>\n",
       "      <td>0.633984</td>\n",
       "      <td>0.245740</td>\n",
       "      <td>0.298817</td>\n",
       "      <td>0.424164</td>\n",
       "      <td>0.552047</td>\n",
       "      <td>0.902500</td>\n",
       "      <td>1.052632</td>\n",
       "    </tr>\n",
       "  </tbody>\n",
       "</table>\n",
       "</div>"
      ],
      "text/plain": [
       "                       count      mean       std       min       25%  \\\n",
       "modified_density_bin                                                   \n",
       "abstractive           2976.0  0.043921  0.019004  0.000000  0.029893   \n",
       "mixed                 3690.0  0.147823  0.065368  0.027489  0.094675   \n",
       "extractive            3334.0  0.633984  0.245740  0.298817  0.424164   \n",
       "\n",
       "                           50%       75%       max  \n",
       "modified_density_bin                                \n",
       "abstractive           0.044741  0.058642  0.079585  \n",
       "mixed                 0.130194  0.195285  0.298776  \n",
       "extractive            0.552047  0.902500  1.052632  "
      ]
     },
     "execution_count": 14,
     "metadata": {},
     "output_type": "execute_result"
    }
   ],
   "source": [
    "df.groupby(\"modified_density_bin\")[\"modified_density\"].describe().sort_index(\n",
    "    key=lambda ind: [\n",
    "        \"2\" if (x == \"extractive\") else \"1\" if (x == \"mixed\") else \"0\" for x in ind\n",
    "    ]\n",
    ")"
   ]
  },
  {
   "cell_type": "code",
   "execution_count": 15,
   "id": "e274503f",
   "metadata": {},
   "outputs": [
    {
     "data": {
      "text/html": [
       "<div>\n",
       "<style scoped>\n",
       "    .dataframe tbody tr th:only-of-type {\n",
       "        vertical-align: middle;\n",
       "    }\n",
       "\n",
       "    .dataframe tbody tr th {\n",
       "        vertical-align: top;\n",
       "    }\n",
       "\n",
       "    .dataframe thead th {\n",
       "        text-align: right;\n",
       "    }\n",
       "</style>\n",
       "<table border=\"1\" class=\"dataframe\">\n",
       "  <thead>\n",
       "    <tr style=\"text-align: right;\">\n",
       "      <th></th>\n",
       "      <th>count</th>\n",
       "      <th>mean</th>\n",
       "      <th>std</th>\n",
       "      <th>min</th>\n",
       "      <th>25%</th>\n",
       "      <th>50%</th>\n",
       "      <th>75%</th>\n",
       "      <th>max</th>\n",
       "    </tr>\n",
       "    <tr>\n",
       "      <th>density_bin</th>\n",
       "      <th></th>\n",
       "      <th></th>\n",
       "      <th></th>\n",
       "      <th></th>\n",
       "      <th></th>\n",
       "      <th></th>\n",
       "      <th></th>\n",
       "      <th></th>\n",
       "    </tr>\n",
       "  </thead>\n",
       "  <tbody>\n",
       "    <tr>\n",
       "      <th>abstractive</th>\n",
       "      <td>3301.0</td>\n",
       "      <td>0.640719</td>\n",
       "      <td>0.170484</td>\n",
       "      <td>0.000000</td>\n",
       "      <td>0.550000</td>\n",
       "      <td>0.666667</td>\n",
       "      <td>0.761905</td>\n",
       "      <td>1.0</td>\n",
       "    </tr>\n",
       "    <tr>\n",
       "      <th>mixed</th>\n",
       "      <td>3291.0</td>\n",
       "      <td>0.872449</td>\n",
       "      <td>0.090500</td>\n",
       "      <td>0.451613</td>\n",
       "      <td>0.814815</td>\n",
       "      <td>0.884615</td>\n",
       "      <td>0.941176</td>\n",
       "      <td>1.0</td>\n",
       "    </tr>\n",
       "    <tr>\n",
       "      <th>extractive</th>\n",
       "      <td>3408.0</td>\n",
       "      <td>0.965735</td>\n",
       "      <td>0.045298</td>\n",
       "      <td>0.627907</td>\n",
       "      <td>0.947368</td>\n",
       "      <td>0.978261</td>\n",
       "      <td>1.000000</td>\n",
       "      <td>1.0</td>\n",
       "    </tr>\n",
       "  </tbody>\n",
       "</table>\n",
       "</div>"
      ],
      "text/plain": [
       "              count      mean       std       min       25%       50%  \\\n",
       "density_bin                                                             \n",
       "abstractive  3301.0  0.640719  0.170484  0.000000  0.550000  0.666667   \n",
       "mixed        3291.0  0.872449  0.090500  0.451613  0.814815  0.884615   \n",
       "extractive   3408.0  0.965735  0.045298  0.627907  0.947368  0.978261   \n",
       "\n",
       "                  75%  max  \n",
       "density_bin                 \n",
       "abstractive  0.761905  1.0  \n",
       "mixed        0.941176  1.0  \n",
       "extractive   1.000000  1.0  "
      ]
     },
     "execution_count": 15,
     "metadata": {},
     "output_type": "execute_result"
    }
   ],
   "source": [
    "# Large overlap in coverage\n",
    "df.groupby(\"density_bin\")[\"coverage\"].describe().sort_index(\n",
    "    key=lambda ind: [\n",
    "        \"2\" if (x == \"extractive\") else \"1\" if (x == \"mixed\") else \"0\" for x in ind\n",
    "    ]\n",
    ")"
   ]
  },
  {
   "cell_type": "markdown",
   "id": "389c31a6",
   "metadata": {},
   "source": [
    "### Check samples changing labels"
   ]
  },
  {
   "cell_type": "code",
   "execution_count": 16,
   "id": "4554b8a5",
   "metadata": {},
   "outputs": [
    {
     "data": {
      "text/plain": [
       "density_bin  modified_density_bin\n",
       "extractive   extractive              2980\n",
       "abstractive  abstractive             2559\n",
       "mixed        mixed                   2541\n",
       "abstractive  mixed                    721\n",
       "extractive   mixed                    428\n",
       "mixed        abstractive              417\n",
       "             extractive               333\n",
       "abstractive  extractive                21\n",
       "dtype: int64"
      ]
     },
     "execution_count": 16,
     "metadata": {},
     "output_type": "execute_result"
    }
   ],
   "source": [
    "df[[\"density_bin\", \"modified_density_bin\"]].value_counts()"
   ]
  },
  {
   "cell_type": "code",
   "execution_count": 17,
   "id": "6145855e",
   "metadata": {
    "scrolled": false
   },
   "outputs": [
    {
     "name": "stdout",
     "output_type": "stream",
     "text": [
      "mixed -> abstractive\n"
     ]
    },
    {
     "data": {
      "text/html": [
       "<div>\n",
       "<style scoped>\n",
       "    .dataframe tbody tr th:only-of-type {\n",
       "        vertical-align: middle;\n",
       "    }\n",
       "\n",
       "    .dataframe tbody tr th {\n",
       "        vertical-align: top;\n",
       "    }\n",
       "\n",
       "    .dataframe thead th {\n",
       "        text-align: right;\n",
       "    }\n",
       "</style>\n",
       "<table border=\"1\" class=\"dataframe\">\n",
       "  <thead>\n",
       "    <tr style=\"text-align: right;\">\n",
       "      <th></th>\n",
       "      <th>coverage</th>\n",
       "      <th>modified_density</th>\n",
       "      <th>density</th>\n",
       "      <th>summary</th>\n",
       "      <th>text</th>\n",
       "    </tr>\n",
       "  </thead>\n",
       "  <tbody>\n",
       "    <tr>\n",
       "      <th>4932</th>\n",
       "      <td>0.833333</td>\n",
       "      <td>0.046296</td>\n",
       "      <td>1.666667</td>\n",
       "      <td>'Man of Steel' took Superman in a direction he never went in the comic books -- and it looks like 'Batman v Superman' is about to make an even worse mistake.</td>\n",
       "      <td>This Friday, March 25th, Batman V Superman: Dawn of Justice hits theaters in the U.S. It's a sequel to 2013's Man of Steel with at least triple the superhero protagonists. The studio's intention is to kickstart a whole new franchise of DC Comics-based movies.\\n\\nBut as a lifelong Superman fan — the target audience, in theory — I find myself with low expectations and raised hackles.\\n\\nThe first problem is that Batman v Superman is helmed by the same director who gave us the mess that was Man of Steel, Zack Snyder. Though Snyder claims to understand his subject, his actions speak louder.\\n\\n“People are always like ‘You changed Superman.’ If you’re a comic book fan, you know that I didn’t change Superman.\" Snyder said recently. \"If you know the true canon, you know that I didn’t change Superman.\"\\n\\nAs someone who spent her entire teen years immersed in Superman comics, I had to say: Challenge accepted, Snyder. Read on to discover why you're wrong.\\n\\nI only saw Man of Steel once; my poor heart couldn't take another viewing. My blood pressure rises every time I hear it mentioned, especially the epic fail that was the disastrous final act. I will also admit that I adored Amy Adams' Lois Lane, and that a lot of my personal issues with the film are due to a general apathy towards stories that focus on Superman's homeworld of Krypton, and an aesthetic dislike of CGI-heavy sci-fi scenes.\\n\\nBut above all, the movie was a character assassination of the Superman I know and love, the one Snyder claims to have portrayed perfectly.\\n\\nThere are so many moments I could point to as Snyder and his team utterly failing to understand the core of the character: Superman letting Pa Kent die in order to keep his powers a secret; Superman not seeming to care to prevent the destruction of Metropolis; Superman rendered in the darkest color palette imaginable, with a perpetual scowl on Henry Cavill's chiseled face.\\n\\nTurning a superhero defined by his optimism for mankind into a gritty depressive without any real reasoning or character growth behind it shows Snyder's obvious attempt to win the Dark Knight Returns crowd — but without any of Dark Knight director Christopher Nolan's storytelling skills.\\n\\nYes, in the comics, Clark Kent grew up an outcast, hiding his power in a small town, feeling alone. But he also grew up with two loving and devoted parents, who instilled him with their values and taught him about the best mankind had to offer. That is established in every incarnation of the hero, from every comics reboot to every other TV show and film. This Superman would not let his father die when he had the power to do something about it. He would not walk the Earth feeling utterly alone when he had at least those two in his corner. No way he would let a city get basically destroyed with their voices in his ear.\\n\\nFor proof of all this, there's no better place to start than Jeph Loeb's 1998 classic Superman for All Seasons:\\n\\nMinutes after Man of Steel hit theaters, much of the Internet knew how the film ended: Superman kills his fellow Kryptonian enemy General Zod. Yes, Zod was about to kill (more) innocent humans before Superman snapped his neck. Ostensibly this was to prevent more deaths.\\n\\nBut Superman, Clark Kent, Kal-El, does not kill. This cast-iron rule was put into place in the comics in 1940, and has held firm ever since — through world war and global catastrophe. Other than a few instances set in \"What If\" stories, \"elseworlds\" or alternate dimensions, it's remained the ultimate ideal of the character.\\n\\nIndeed, even in the world of What If, you can't escape how essential the rule is to Superman. In one of the most classic elseworld stories, \"Whatever Happened to the Man of Tomorrow\" from 1986, Superman hangs up his cape after he takes a life. And that was written by Alan Moore, author of Watchmen and master of the dark, gritty reboot.\\n\\nAn important moment from 'Whatever Happened to the Man of Tomorrow?'\\n\\nSuperman knows he...</td>\n",
       "    </tr>\n",
       "    <tr>\n",
       "      <th>3206</th>\n",
       "      <td>0.812500</td>\n",
       "      <td>0.034288</td>\n",
       "      <td>1.645833</td>\n",
       "      <td>Just like Donald Trump is being watched in Sunday's debate to see how he responds to a recently surfaced videotape of a crude conversation about women, NBC Today show personality Billy Bush will likely have some explaining to do when he resurfaces on the air.</td>\n",
       "      <td>NEW YORK – NBC has suspended \"Today\" show personality Billy Bush indefinitely for his role in the recently surfaced videotape of Donald Trump's crude conversation about women.\\n\\n\"Today\" show Executive Producer Noah Oppenheim said in a memo that \"there is simply no excuse for Billy's language and behavior on that tape.\" NBC has suspended Bush from his job as host of the \"Today\" show's third hour, \"pending further review of the matter.\"\\n\\nThe 2005 tape was made when Bush worked on the entertainment news show \"Access Hollywood\" as he rode with Trump to the set of a daytime drama where Trump made a cameo appearance. In the tape, the Republican presidential candidate brags about kissing, groping and trying to have sex with women who were not his wife. Bush joins in, laughing at some of Trump's comments and later encouraging an actress to hug Trump.\\n\\nBush, 44, has been brutalized on his own Facebook page since the tape surfaced. Hundreds of hostile comments were attached to Bush's last posting on Friday — of him distributing a plate of bacon to \"Today\" viewers outside of the show's studio. \"You are sickening!\" one woman wrote, in a comment that nearly 5,000 had \"liked\" through Sunday afternoon.\\n\\nAngering women viewers of a show as important to NBC's bottom line as \"Today\" is no small matter. Many viewers upset by 2012's messy dumping of Ann Curry as \"Today\" host took it out on colleague Matt Lauer; the show's ratings still haven't recovered. Women make up the majority of \"Today\" viewers, particularly in the last two hours.\\n\\nEven before this incident, Bush had a rocky start. He was the reporter to whom American swimmer Ryan Lochte lied about being robbed at the Olympics. When Bush later tried to defend Lochte on \"Today,\" he was dressed down by colleague Al Roker.\\n\\nThe \"Access Hollywood\" tape was an embarrassment on multiple levels for NBC News. The news division for days had been aware of the tape from the NBC-owned entertainment show, but was scooped by The Washington Post on Friday when the newspaper was tipped off about its existence and got a story out within hours.\\n\\nBush issued a statement on Friday apologizing for his actions.\\n\\nThe tape showed Bush and Trump speaking as the Republican was about to appear on the daytime drama \"Days of Our Lives.\" From the bus they had ridden to the set, Bush pointed out to Trump an actress, Arianne Zucker, who was there to greet them.\\n\\nBush called the actress \"hot,\" adding an expletive.\\n\\n\"I've gotta use some Tic Tacs, just in case I start kissing her,\" Trump said. \"You know, I'm automatically attracted to beautiful ... I just start kissing them. It's like a magnet. Just kiss. I don't even wait. And when you're a star, they let you do it. You can do anything.\"\\n\\n\"Grab them by the p----. You can do anything,\" Trump added.\\n\\nAfter getting off the bus, Bush asks the actress to hug Trump, then added, \"How about a little hug for the Bushy?\"\\n\\nThe married father of three is the nephew of former President George H.W. Bush.</td>\n",
       "    </tr>\n",
       "  </tbody>\n",
       "</table>\n",
       "</div>"
      ],
      "text/plain": [
       "      coverage  modified_density   density  \\\n",
       "4932  0.833333          0.046296  1.666667   \n",
       "3206  0.812500          0.034288  1.645833   \n",
       "\n",
       "                                                                                                                                                                                                                                                                  summary  \\\n",
       "4932                                                                                                        'Man of Steel' took Superman in a direction he never went in the comic books -- and it looks like 'Batman v Superman' is about to make an even worse mistake.   \n",
       "3206  Just like Donald Trump is being watched in Sunday's debate to see how he responds to a recently surfaced videotape of a crude conversation about women, NBC Today show personality Billy Bush will likely have some explaining to do when he resurfaces on the air.   \n",
       "\n",
       "                                                                                                                                                                                                                                                                                                                                                                                                                                                                                                                                                                                                                                                                                                                                                                                                                                                                                                                                                                                                                                                                                                                                                                                                                                                                                                                                                                                                                                                                                                                                                                                                                                                                                                                                                                                                                                                                                                                                                                                                                                                                                                                                                                                                                                                                                                                                                                                                                                                                                                                                                                                                                                                                                                                                                                                                                                                                                                                                                                                                                                                                                                                                                                                                                                                                                                                                                                                                                                                                                                                                                                                                                                                                                                                                                                                                                                                                                                                                                                                                                                                                                                                                                                 text  \n",
       "4932  This Friday, March 25th, Batman V Superman: Dawn of Justice hits theaters in the U.S. It's a sequel to 2013's Man of Steel with at least triple the superhero protagonists. The studio's intention is to kickstart a whole new franchise of DC Comics-based movies.\\n\\nBut as a lifelong Superman fan — the target audience, in theory — I find myself with low expectations and raised hackles.\\n\\nThe first problem is that Batman v Superman is helmed by the same director who gave us the mess that was Man of Steel, Zack Snyder. Though Snyder claims to understand his subject, his actions speak louder.\\n\\n“People are always like ‘You changed Superman.’ If you’re a comic book fan, you know that I didn’t change Superman.\" Snyder said recently. \"If you know the true canon, you know that I didn’t change Superman.\"\\n\\nAs someone who spent her entire teen years immersed in Superman comics, I had to say: Challenge accepted, Snyder. Read on to discover why you're wrong.\\n\\nI only saw Man of Steel once; my poor heart couldn't take another viewing. My blood pressure rises every time I hear it mentioned, especially the epic fail that was the disastrous final act. I will also admit that I adored Amy Adams' Lois Lane, and that a lot of my personal issues with the film are due to a general apathy towards stories that focus on Superman's homeworld of Krypton, and an aesthetic dislike of CGI-heavy sci-fi scenes.\\n\\nBut above all, the movie was a character assassination of the Superman I know and love, the one Snyder claims to have portrayed perfectly.\\n\\nThere are so many moments I could point to as Snyder and his team utterly failing to understand the core of the character: Superman letting Pa Kent die in order to keep his powers a secret; Superman not seeming to care to prevent the destruction of Metropolis; Superman rendered in the darkest color palette imaginable, with a perpetual scowl on Henry Cavill's chiseled face.\\n\\nTurning a superhero defined by his optimism for mankind into a gritty depressive without any real reasoning or character growth behind it shows Snyder's obvious attempt to win the Dark Knight Returns crowd — but without any of Dark Knight director Christopher Nolan's storytelling skills.\\n\\nYes, in the comics, Clark Kent grew up an outcast, hiding his power in a small town, feeling alone. But he also grew up with two loving and devoted parents, who instilled him with their values and taught him about the best mankind had to offer. That is established in every incarnation of the hero, from every comics reboot to every other TV show and film. This Superman would not let his father die when he had the power to do something about it. He would not walk the Earth feeling utterly alone when he had at least those two in his corner. No way he would let a city get basically destroyed with their voices in his ear.\\n\\nFor proof of all this, there's no better place to start than Jeph Loeb's 1998 classic Superman for All Seasons:\\n\\nMinutes after Man of Steel hit theaters, much of the Internet knew how the film ended: Superman kills his fellow Kryptonian enemy General Zod. Yes, Zod was about to kill (more) innocent humans before Superman snapped his neck. Ostensibly this was to prevent more deaths.\\n\\nBut Superman, Clark Kent, Kal-El, does not kill. This cast-iron rule was put into place in the comics in 1940, and has held firm ever since — through world war and global catastrophe. Other than a few instances set in \"What If\" stories, \"elseworlds\" or alternate dimensions, it's remained the ultimate ideal of the character.\\n\\nIndeed, even in the world of What If, you can't escape how essential the rule is to Superman. In one of the most classic elseworld stories, \"Whatever Happened to the Man of Tomorrow\" from 1986, Superman hangs up his cape after he takes a life. And that was written by Alan Moore, author of Watchmen and master of the dark, gritty reboot.\\n\\nAn important moment from 'Whatever Happened to the Man of Tomorrow?'\\n\\nSuperman knows he...  \n",
       "3206                                                                                                                                                                                                                                                                                                                                                                                                                                                                                                                                                                                                                                                                                                                                                                                                                                                                                                                                                                                                                    NEW YORK – NBC has suspended \"Today\" show personality Billy Bush indefinitely for his role in the recently surfaced videotape of Donald Trump's crude conversation about women.\\n\\n\"Today\" show Executive Producer Noah Oppenheim said in a memo that \"there is simply no excuse for Billy's language and behavior on that tape.\" NBC has suspended Bush from his job as host of the \"Today\" show's third hour, \"pending further review of the matter.\"\\n\\nThe 2005 tape was made when Bush worked on the entertainment news show \"Access Hollywood\" as he rode with Trump to the set of a daytime drama where Trump made a cameo appearance. In the tape, the Republican presidential candidate brags about kissing, groping and trying to have sex with women who were not his wife. Bush joins in, laughing at some of Trump's comments and later encouraging an actress to hug Trump.\\n\\nBush, 44, has been brutalized on his own Facebook page since the tape surfaced. Hundreds of hostile comments were attached to Bush's last posting on Friday — of him distributing a plate of bacon to \"Today\" viewers outside of the show's studio. \"You are sickening!\" one woman wrote, in a comment that nearly 5,000 had \"liked\" through Sunday afternoon.\\n\\nAngering women viewers of a show as important to NBC's bottom line as \"Today\" is no small matter. Many viewers upset by 2012's messy dumping of Ann Curry as \"Today\" host took it out on colleague Matt Lauer; the show's ratings still haven't recovered. Women make up the majority of \"Today\" viewers, particularly in the last two hours.\\n\\nEven before this incident, Bush had a rocky start. He was the reporter to whom American swimmer Ryan Lochte lied about being robbed at the Olympics. When Bush later tried to defend Lochte on \"Today,\" he was dressed down by colleague Al Roker.\\n\\nThe \"Access Hollywood\" tape was an embarrassment on multiple levels for NBC News. The news division for days had been aware of the tape from the NBC-owned entertainment show, but was scooped by The Washington Post on Friday when the newspaper was tipped off about its existence and got a story out within hours.\\n\\nBush issued a statement on Friday apologizing for his actions.\\n\\nThe tape showed Bush and Trump speaking as the Republican was about to appear on the daytime drama \"Days of Our Lives.\" From the bus they had ridden to the set, Bush pointed out to Trump an actress, Arianne Zucker, who was there to greet them.\\n\\nBush called the actress \"hot,\" adding an expletive.\\n\\n\"I've gotta use some Tic Tacs, just in case I start kissing her,\" Trump said. \"You know, I'm automatically attracted to beautiful ... I just start kissing them. It's like a magnet. Just kiss. I don't even wait. And when you're a star, they let you do it. You can do anything.\"\\n\\n\"Grab them by the p----. You can do anything,\" Trump added.\\n\\nAfter getting off the bus, Bush asks the actress to hug Trump, then added, \"How about a little hug for the Bushy?\"\\n\\nThe married father of three is the nephew of former President George H.W. Bush.  "
      ]
     },
     "metadata": {},
     "output_type": "display_data"
    },
    {
     "name": "stdout",
     "output_type": "stream",
     "text": [
      "abstractive -> extractive\n"
     ]
    },
    {
     "data": {
      "text/html": [
       "<div>\n",
       "<style scoped>\n",
       "    .dataframe tbody tr th:only-of-type {\n",
       "        vertical-align: middle;\n",
       "    }\n",
       "\n",
       "    .dataframe tbody tr th {\n",
       "        vertical-align: top;\n",
       "    }\n",
       "\n",
       "    .dataframe thead th {\n",
       "        text-align: right;\n",
       "    }\n",
       "</style>\n",
       "<table border=\"1\" class=\"dataframe\">\n",
       "  <thead>\n",
       "    <tr style=\"text-align: right;\">\n",
       "      <th></th>\n",
       "      <th>coverage</th>\n",
       "      <th>modified_density</th>\n",
       "      <th>density</th>\n",
       "      <th>summary</th>\n",
       "      <th>text</th>\n",
       "    </tr>\n",
       "  </thead>\n",
       "  <tbody>\n",
       "    <tr>\n",
       "      <th>5871</th>\n",
       "      <td>1.0</td>\n",
       "      <td>0.333333</td>\n",
       "      <td>1.0</td>\n",
       "      <td>It was 1953</td>\n",
       "      <td>On its face, the annual White House Easter Egg Roll is an occasion for the commingling of adorable children and fluffy bunnies—of either the four-legged or the full-grown-adult-in-costume variety. But it’s hard to imagine anything taking place on White House grounds without the undercurrent of politics, even if the majority of attendees, three-feet-high and preoccupied with rolling eggs, remain unaware.\\n\\nThe Easter Egg Roll has twice been a venue for conversations about inclusion and diversity. In 2006, around 100 gay and lesbian couples and their children attended the event, despite the shouts of a small group of protesters, to make a statement about the different kinds of families that make up America. During President Obama’s first year in office, he formally invited gay and lesbian families to participate.\\n\\nMore than half a century earlier, during his first year in office, President Eisenhower restored the tradition after a twelve-year hiatus. On that day in 1953, First Lady Mamie Eisenhower was disturbed to see that black children were peering in at the festivities from beyond the gates, instead of taking part. The following year, she invited African-American familes to join for the first time since the tradition officially began in 1878, a small but symbolic blip on the path to integration.\\n\\nBut on that April morning, attendees were mostly focused on figuring out what, exactly, an egg roll was. As a TIME briefing reported, “No one seemed to know what to do at an egg roll. Some bowled eggs across the greensward; others tossed them high in the air with occasional disasters.” The first aid station, consequently, was quite busy.\\n\\nLiz Ronk, who edited this gallery, is the Photo Editor for LIFE.com. Follow her on Twitter at @LizabethRonk.</td>\n",
       "    </tr>\n",
       "    <tr>\n",
       "      <th>2503</th>\n",
       "      <td>1.0</td>\n",
       "      <td>1.000000</td>\n",
       "      <td>1.0</td>\n",
       "      <td>Sen.</td>\n",
       "      <td>WASHINGTON – Sen. Marco Rubio, the freshman senator from Florida and White House hopeful, defended his tougher rhetoric on foreign policy and said Americans “have to recognize the balance of power in the world is shifting.”\\n\\nRubio said on “Fox News Sunday” that the “rise of rogue states like North Korea and Iran,” as well as non-state groups like the Islamic State, have shifted the priorities for the U.S.\\n\\n“They are all different threats,” he said.\\n\\nDuring the exclusive interview, Rubio also defended former President George W. Bush’s decision to invade Iraq based on the information known at the time.\\n\\nLast week, Fox News’ Megyn Kelly asked likely GOP contender Gov. Jeb Bush whether he would have authorized the war “knowing what we know now.”\\n\\nIn that Fox News interview, Bush said he would have, while acknowledging \"mistakes.\"\\n\\nThat response touched off a wave of criticism, with both Republicans and Democrats saying there would have been no reason to go to war, without intelligence showing weapons of mass destruction.\\n\\nRubio’s appearance on “Fox News Sunday” comes during the same week he delivered a key foreign policy speech in New York, where he defended the use of military power and called on the U.S. to aggressively confront China, Russia and other nations he said threaten American economic interests.\\n\\n“We simply cannot afford to elect as our next president one of the leading agents of this administration’s foreign policy – a leader from yesterday whose tenure as secretary of state was ineffective at best and dangerously negligent at worst,” he said during his speech to the Council on Foreign Relations in New York.\\n\\nRubio also answered criticism that he had gone soft on immigration reform.\\n\\n“It’s not that we bailed, it’s that we don’t have the votes to pass it,” Rubio said. “In fact, we have less votes for comprehensive immigration reform today than we did two years ago when that passed.”\\n\\nRubio blamed the dip in interest on “the last election, because of unilateral actions the president took through executive order, because of a border crisis, because of minors.”\\n\\nThough Rubio says immigration reform is needed, “the problem is, we can’t do it in one big piece of legislation. The votes aren’t there.”</td>\n",
       "    </tr>\n",
       "  </tbody>\n",
       "</table>\n",
       "</div>"
      ],
      "text/plain": [
       "      coverage  modified_density  density      summary  \\\n",
       "5871       1.0          0.333333      1.0  It was 1953   \n",
       "2503       1.0          1.000000      1.0         Sen.   \n",
       "\n",
       "                                                                                                                                                                                                                                                                                                                                                                                                                                                                                                                                                                                                                                                                                                                                                                                                                                                                                                                                                                                                                                                                                                                                                                                                                                                                                                                                                                                                                                                                                                                                                                                                                                                                                                                                                                                                                                                                                                                                                                                                                                                                                                                                                                                                                                                                                                                                                           text  \n",
       "5871                                                                                                                                                                                                                                                                                                                                                                                                                                                                                                           On its face, the annual White House Easter Egg Roll is an occasion for the commingling of adorable children and fluffy bunnies—of either the four-legged or the full-grown-adult-in-costume variety. But it’s hard to imagine anything taking place on White House grounds without the undercurrent of politics, even if the majority of attendees, three-feet-high and preoccupied with rolling eggs, remain unaware.\\n\\nThe Easter Egg Roll has twice been a venue for conversations about inclusion and diversity. In 2006, around 100 gay and lesbian couples and their children attended the event, despite the shouts of a small group of protesters, to make a statement about the different kinds of families that make up America. During President Obama’s first year in office, he formally invited gay and lesbian families to participate.\\n\\nMore than half a century earlier, during his first year in office, President Eisenhower restored the tradition after a twelve-year hiatus. On that day in 1953, First Lady Mamie Eisenhower was disturbed to see that black children were peering in at the festivities from beyond the gates, instead of taking part. The following year, she invited African-American familes to join for the first time since the tradition officially began in 1878, a small but symbolic blip on the path to integration.\\n\\nBut on that April morning, attendees were mostly focused on figuring out what, exactly, an egg roll was. As a TIME briefing reported, “No one seemed to know what to do at an egg roll. Some bowled eggs across the greensward; others tossed them high in the air with occasional disasters.” The first aid station, consequently, was quite busy.\\n\\nLiz Ronk, who edited this gallery, is the Photo Editor for LIFE.com. Follow her on Twitter at @LizabethRonk.  \n",
       "2503  WASHINGTON – Sen. Marco Rubio, the freshman senator from Florida and White House hopeful, defended his tougher rhetoric on foreign policy and said Americans “have to recognize the balance of power in the world is shifting.”\\n\\nRubio said on “Fox News Sunday” that the “rise of rogue states like North Korea and Iran,” as well as non-state groups like the Islamic State, have shifted the priorities for the U.S.\\n\\n“They are all different threats,” he said.\\n\\nDuring the exclusive interview, Rubio also defended former President George W. Bush’s decision to invade Iraq based on the information known at the time.\\n\\nLast week, Fox News’ Megyn Kelly asked likely GOP contender Gov. Jeb Bush whether he would have authorized the war “knowing what we know now.”\\n\\nIn that Fox News interview, Bush said he would have, while acknowledging \"mistakes.\"\\n\\nThat response touched off a wave of criticism, with both Republicans and Democrats saying there would have been no reason to go to war, without intelligence showing weapons of mass destruction.\\n\\nRubio’s appearance on “Fox News Sunday” comes during the same week he delivered a key foreign policy speech in New York, where he defended the use of military power and called on the U.S. to aggressively confront China, Russia and other nations he said threaten American economic interests.\\n\\n“We simply cannot afford to elect as our next president one of the leading agents of this administration’s foreign policy – a leader from yesterday whose tenure as secretary of state was ineffective at best and dangerously negligent at worst,” he said during his speech to the Council on Foreign Relations in New York.\\n\\nRubio also answered criticism that he had gone soft on immigration reform.\\n\\n“It’s not that we bailed, it’s that we don’t have the votes to pass it,” Rubio said. “In fact, we have less votes for comprehensive immigration reform today than we did two years ago when that passed.”\\n\\nRubio blamed the dip in interest on “the last election, because of unilateral actions the president took through executive order, because of a border crisis, because of minors.”\\n\\nThough Rubio says immigration reform is needed, “the problem is, we can’t do it in one big piece of legislation. The votes aren’t there.”  "
      ]
     },
     "metadata": {},
     "output_type": "display_data"
    },
    {
     "name": "stdout",
     "output_type": "stream",
     "text": [
      "abstractive -> mixed\n"
     ]
    },
    {
     "data": {
      "text/html": [
       "<div>\n",
       "<style scoped>\n",
       "    .dataframe tbody tr th:only-of-type {\n",
       "        vertical-align: middle;\n",
       "    }\n",
       "\n",
       "    .dataframe tbody tr th {\n",
       "        vertical-align: top;\n",
       "    }\n",
       "\n",
       "    .dataframe thead th {\n",
       "        text-align: right;\n",
       "    }\n",
       "</style>\n",
       "<table border=\"1\" class=\"dataframe\">\n",
       "  <thead>\n",
       "    <tr style=\"text-align: right;\">\n",
       "      <th></th>\n",
       "      <th>coverage</th>\n",
       "      <th>modified_density</th>\n",
       "      <th>density</th>\n",
       "      <th>summary</th>\n",
       "      <th>text</th>\n",
       "    </tr>\n",
       "  </thead>\n",
       "  <tbody>\n",
       "    <tr>\n",
       "      <th>7364</th>\n",
       "      <td>0.714286</td>\n",
       "      <td>0.142857</td>\n",
       "      <td>1.000000</td>\n",
       "      <td>Power Sheet - August 5, 2016</td>\n",
       "      <td>Editor-at-Large Jennifer Reingold (@jennrein) is filling in for Geoff Colvin this week.\\n\\nOn this, the first day of the 2016 Rio Olympics, it’s worth talking a little bit about teamwork. Normally, as a recent piece in the Harvard Business Review.com by HBS professor Gautam Mukunda (h/t to @cliftonleaf for the suggestion) makes clear, teams (really, any organization) tend to share the same values and beliefs. Having both a common goal and an agreed-upon way of getting there is what makes the “teamwork” part happen. But what happens if your team’s beliefs and your values don’t align? Which do you follow?\\n\\nThere are two relevant case studies that come to mind: First, as Mukunda analyzes brilliantly, the Republican Party. Some Republicans have chosen their values over their team, refusing to endorse Donald Trump because they don’t think he represents the things that are the essence, to them, of being a Republican (Mitt Romney and the Bush family fall into this camp). Others, such as Paul Ryan and Mitch McConnell, have criticized Trump for statements that they don’t agree with (particularly those relating to race), but continue to endorse him, demonstrating, in Mukunda’s words, that while they believe in inclusivity, it is not one of their fundamental values: “Because values are what you do when the choice is hard,” he writes.\\n\\nAnother example is the Russian Olympic team, now much diminished after many of the athletes were banned for doping. In Russia, like other countries, there is a fundamental belief in athletic superiority as a proxy for national superiority. It is clear that there was intense pressure to do whatever it took to win for the home nation—even if that meant abandoning one’s core values of fair play. The choice is an ugly one, filled with personal danger as well.\\n\\nBut there were leaders on that team—most notably, in my view, Yuliya Stepanova, who blew the whistle, but then was not allowed to compete because she had admitted to previous doping. She chose values over beliefs—and still has lost her livelihood. She is, however, a leader. As Mukunda writes: “Leaders aren’t judged just by the everyday choices they make. They’re measured most importantly by what they do when every option seems like a bad one.”\\n\\nYou can share Power Sheet with friends and followers here.</td>\n",
       "    </tr>\n",
       "    <tr>\n",
       "      <th>132</th>\n",
       "      <td>0.800000</td>\n",
       "      <td>0.088889</td>\n",
       "      <td>1.333333</td>\n",
       "      <td>Of a Kind's Erica Cerulo explains the dos and don'ts of brand voice.</td>\n",
       "      <td>When my business partner Claire Mazur and I developed the idea for our company, Of a Kind in 2010, establishing our voice was a serious undertaking. We were creating a website to sell pieces from up-and-coming fashion designers and also to tell their stories, and we knew that figuring out how to speak to our audience — not just what to say but also how to say it — would be key in shaping people’s perception of what we were doing and selling.\\n\\nHaving come from the world of magazine editorial, cementing that tone was something I was excited to tackle. And though this project was especially crucial to our ecommerce business with its content-heavy approach, really, every company under the sun has to think about the voice and the personality of its messaging — how do you write an Instagram caption or respond to user feedback if you don't know what your business sounds like? Do you open customer service emails with “Hey, Kanye!” or “Dear Mr. West?” Below, four tactics that have helped us define our vibe that we think will serve you well, too.\\n\\nBefore Claire and I started Of a Kind, we spent time identifying our target customers. Initially, we were talking to these imagined people — think Kate, the corporate creative who mourned the loss of Domino magazine and loved Michelle Williams’s style. But now that we've been in business for nearly four years, we have some knowledge — data! — re: who our customer is: She’s a 30-year-old woman who shops at J.Crew and Etsy and reads Refinery29 and The New Yorker.\\n\\nHaving this intel means we can not only create content that we deem relevant — say, “22 Bikinis for Grown-Ass Women”—but we can also make knowing references. We can namecheck Regina George (Mean Girls!) and Joan Didion, and she'll get it.\\n\\nGranted, not everyone who comes to our site fits this bill, and we have to walk a fine line. Plenty of publications avoid going down this road at all for fear of alienating a reader or a potential one, but it cuts the other way as well: If you do it right, you show your fans that you really get them and become fast friends.\\n\\nOur ad copy doesn’t read the same as our newsletter content, which is different from the tone of our customer service messages. When we’re encountering someone for the first time— say, in a display ad — we play things a little straighter. We don’t use words like “rad” because we think people have to warm up to us — and that we have to warm up to them.\\n\\nBottom line: You need to consider both the context and your relationship with the person consuming each drop of content you produce. You wouldn’t want someone to stumble upon a tweet and be put off by your company because you come off as too insider-y, and, on the flipside, it’d be a bummer to alienate a super-user by responding to an email about a tech glitch in a way that read as too chilly or impersonal. The same way that social-media experts say you need to create different posts for the various platforms you’re using — well, you need to establish different iterations of our company voice for each of the ways and places you’re talking to people, too.\\n\\nSometimes it’s easier to define what feels wrong than what feels right, so start there. We don't use “bauble” or “frock” — women’s magazine words that people don’t say in real life. Anything that’s aggressively fashion-y — or French — is also on the no list (i.e. “au courant”).\\n\\nIf you’re a food app targeting sophisticated home cooks, maybe “jiffy,” “nosh\" and “kid-friendly” are off-limits. Or a beauty site with a teenage audience? Perhaps you decide to steer clear of “luxurious,” “dewy\" or “pamper.”\\n\\nBuilding this document is a good way to discover whole categories of words that just don’t fit your brand, and having a sheet to reference is a stellar way to teach others the writing style — it helps give the whole issue of voice some hard-and-fast rules that everyone on your team can follow.\\n\\nI was going to start this point by saying “Unless you’re a super-s...</td>\n",
       "    </tr>\n",
       "  </tbody>\n",
       "</table>\n",
       "</div>"
      ],
      "text/plain": [
       "      coverage  modified_density   density  \\\n",
       "7364  0.714286          0.142857  1.000000   \n",
       "132   0.800000          0.088889  1.333333   \n",
       "\n",
       "                                                                   summary  \\\n",
       "7364                                          Power Sheet - August 5, 2016   \n",
       "132   Of a Kind's Erica Cerulo explains the dos and don'ts of brand voice.   \n",
       "\n",
       "                                                                                                                                                                                                                                                                                                                                                                                                                                                                                                                                                                                                                                                                                                                                                                                                                                                                                                                                                                                                                                                                                                                                                                                                                                                                                                                                                                                                                                                                                                                                                                                                                                                                                                                                                                                                                                                                                                                                                                                                                                                                                                                                                                                                                                                                                                                                                                                                                                                                                                                                                                                                                                                                                                                                                                                                                                                                                                                                                                                                                                                                                                                                                                                                                                                                                                                                                                                                                                                                                                                                                                                                                                                                                                                                                                                                                                                                                                                                                                                                                                                                                                                                                                 text  \n",
       "7364                                                                                                                                                                                                                                                                                                                                                                                                                                                                                                                                                                                                                                                                                                                                                                                                                                                                                                                                                                                                                                                                                                                                                                                                                                                                                                                                                                                                                                                                                                                                                                                                                                                                                                                                               Editor-at-Large Jennifer Reingold (@jennrein) is filling in for Geoff Colvin this week.\\n\\nOn this, the first day of the 2016 Rio Olympics, it’s worth talking a little bit about teamwork. Normally, as a recent piece in the Harvard Business Review.com by HBS professor Gautam Mukunda (h/t to @cliftonleaf for the suggestion) makes clear, teams (really, any organization) tend to share the same values and beliefs. Having both a common goal and an agreed-upon way of getting there is what makes the “teamwork” part happen. But what happens if your team’s beliefs and your values don’t align? Which do you follow?\\n\\nThere are two relevant case studies that come to mind: First, as Mukunda analyzes brilliantly, the Republican Party. Some Republicans have chosen their values over their team, refusing to endorse Donald Trump because they don’t think he represents the things that are the essence, to them, of being a Republican (Mitt Romney and the Bush family fall into this camp). Others, such as Paul Ryan and Mitch McConnell, have criticized Trump for statements that they don’t agree with (particularly those relating to race), but continue to endorse him, demonstrating, in Mukunda’s words, that while they believe in inclusivity, it is not one of their fundamental values: “Because values are what you do when the choice is hard,” he writes.\\n\\nAnother example is the Russian Olympic team, now much diminished after many of the athletes were banned for doping. In Russia, like other countries, there is a fundamental belief in athletic superiority as a proxy for national superiority. It is clear that there was intense pressure to do whatever it took to win for the home nation—even if that meant abandoning one’s core values of fair play. The choice is an ugly one, filled with personal danger as well.\\n\\nBut there were leaders on that team—most notably, in my view, Yuliya Stepanova, who blew the whistle, but then was not allowed to compete because she had admitted to previous doping. She chose values over beliefs—and still has lost her livelihood. She is, however, a leader. As Mukunda writes: “Leaders aren’t judged just by the everyday choices they make. They’re measured most importantly by what they do when every option seems like a bad one.”\\n\\nYou can share Power Sheet with friends and followers here.  \n",
       "132   When my business partner Claire Mazur and I developed the idea for our company, Of a Kind in 2010, establishing our voice was a serious undertaking. We were creating a website to sell pieces from up-and-coming fashion designers and also to tell their stories, and we knew that figuring out how to speak to our audience — not just what to say but also how to say it — would be key in shaping people’s perception of what we were doing and selling.\\n\\nHaving come from the world of magazine editorial, cementing that tone was something I was excited to tackle. And though this project was especially crucial to our ecommerce business with its content-heavy approach, really, every company under the sun has to think about the voice and the personality of its messaging — how do you write an Instagram caption or respond to user feedback if you don't know what your business sounds like? Do you open customer service emails with “Hey, Kanye!” or “Dear Mr. West?” Below, four tactics that have helped us define our vibe that we think will serve you well, too.\\n\\nBefore Claire and I started Of a Kind, we spent time identifying our target customers. Initially, we were talking to these imagined people — think Kate, the corporate creative who mourned the loss of Domino magazine and loved Michelle Williams’s style. But now that we've been in business for nearly four years, we have some knowledge — data! — re: who our customer is: She’s a 30-year-old woman who shops at J.Crew and Etsy and reads Refinery29 and The New Yorker.\\n\\nHaving this intel means we can not only create content that we deem relevant — say, “22 Bikinis for Grown-Ass Women”—but we can also make knowing references. We can namecheck Regina George (Mean Girls!) and Joan Didion, and she'll get it.\\n\\nGranted, not everyone who comes to our site fits this bill, and we have to walk a fine line. Plenty of publications avoid going down this road at all for fear of alienating a reader or a potential one, but it cuts the other way as well: If you do it right, you show your fans that you really get them and become fast friends.\\n\\nOur ad copy doesn’t read the same as our newsletter content, which is different from the tone of our customer service messages. When we’re encountering someone for the first time— say, in a display ad — we play things a little straighter. We don’t use words like “rad” because we think people have to warm up to us — and that we have to warm up to them.\\n\\nBottom line: You need to consider both the context and your relationship with the person consuming each drop of content you produce. You wouldn’t want someone to stumble upon a tweet and be put off by your company because you come off as too insider-y, and, on the flipside, it’d be a bummer to alienate a super-user by responding to an email about a tech glitch in a way that read as too chilly or impersonal. The same way that social-media experts say you need to create different posts for the various platforms you’re using — well, you need to establish different iterations of our company voice for each of the ways and places you’re talking to people, too.\\n\\nSometimes it’s easier to define what feels wrong than what feels right, so start there. We don't use “bauble” or “frock” — women’s magazine words that people don’t say in real life. Anything that’s aggressively fashion-y — or French — is also on the no list (i.e. “au courant”).\\n\\nIf you’re a food app targeting sophisticated home cooks, maybe “jiffy,” “nosh\" and “kid-friendly” are off-limits. Or a beauty site with a teenage audience? Perhaps you decide to steer clear of “luxurious,” “dewy\" or “pamper.”\\n\\nBuilding this document is a good way to discover whole categories of words that just don’t fit your brand, and having a sheet to reference is a stellar way to teach others the writing style — it helps give the whole issue of voice some hard-and-fast rules that everyone on your team can follow.\\n\\nI was going to start this point by saying “Unless you’re a super-s...  "
      ]
     },
     "metadata": {},
     "output_type": "display_data"
    }
   ],
   "source": [
    "for old_label in [\"extractive\", \"mixed\", \"abstractive\"]:\n",
    "    for new_label in [\"extractive\", \"mixed\", \"abstractive\"]:\n",
    "        if old_label == new_label:\n",
    "            continue\n",
    "        if \"abstractive\" not in [old_label, new_label]:\n",
    "            continue\n",
    "        sub_df = df.loc[\n",
    "            (df[\"density_bin\"] == old_label)\n",
    "            & (df[\"modified_density_bin\"] == new_label),\n",
    "            [\"coverage\", \"modified_density\", \"density\", \"summary\", \"text\"],\n",
    "        ]\n",
    "        if sub_df.shape[0]:\n",
    "            print(f\"{old_label} -> {new_label}\")\n",
    "            display(sub_df.sample(2))"
   ]
  },
  {
   "cell_type": "markdown",
   "id": "22d86e2a",
   "metadata": {},
   "source": [
    "# Distribution of affected abstractive samples"
   ]
  },
  {
   "cell_type": "code",
   "execution_count": 18,
   "id": "892e61e6",
   "metadata": {},
   "outputs": [
    {
     "data": {
      "text/plain": [
       "Text(0.5, 1.0, 'In')"
      ]
     },
     "execution_count": 18,
     "metadata": {},
     "output_type": "execute_result"
    },
    {
     "data": {
      "image/png": "[encoded data removed]",
      "text/plain": [
       "<Figure size 432x288 with 2 Axes>"
      ]
     },
     "metadata": {
      "needs_background": "light"
     },
     "output_type": "display_data"
    }
   ],
   "source": [
    "import matplotlib.pyplot as plt\n",
    "\n",
    "fig, ax = plt.subplots(1, 2, sharex=True, sharey=True)\n",
    "df.loc[\n",
    "    (df[\"density_bin\"] == \"abstractive\")\n",
    "    & (df[\"modified_density_bin\"] != \"abstractive\"),\n",
    "    \"summary_len\",\n",
    "].hist(log=True, ax=ax[0], color=\"red\")\n",
    "\n",
    "df.loc[\n",
    "    (df[\"density_bin\"] != \"abstractive\")\n",
    "    & (df[\"modified_density_bin\"] == \"abstractive\"),\n",
    "    \"summary_len\",\n",
    "].hist(log=True, ax=ax[1], color=\"green\")\n",
    "\n",
    "ax[0].set_title(\"Out\")\n",
    "ax[1].set_title(\"In\")"
   ]
  },
  {
   "cell_type": "markdown",
   "id": "3173ba5a",
   "metadata": {},
   "source": [
    "# Still some really short and really long summaries are still considered as abstractive\n",
    "- Let's use heuristics then"
   ]
  },
  {
   "cell_type": "code",
   "execution_count": 19,
   "id": "4c370b9b",
   "metadata": {},
   "outputs": [
    {
     "data": {
      "text/html": [
       "<div>\n",
       "<style scoped>\n",
       "    .dataframe tbody tr th:only-of-type {\n",
       "        vertical-align: middle;\n",
       "    }\n",
       "\n",
       "    .dataframe tbody tr th {\n",
       "        vertical-align: top;\n",
       "    }\n",
       "\n",
       "    .dataframe thead th {\n",
       "        text-align: right;\n",
       "    }\n",
       "</style>\n",
       "<table border=\"1\" class=\"dataframe\">\n",
       "  <thead>\n",
       "    <tr style=\"text-align: right;\">\n",
       "      <th></th>\n",
       "      <th>density_bin</th>\n",
       "      <th>modified_density_bin</th>\n",
       "      <th>coverage</th>\n",
       "      <th>title</th>\n",
       "      <th>summary</th>\n",
       "      <th>summary_len</th>\n",
       "      <th>text_len</th>\n",
       "    </tr>\n",
       "  </thead>\n",
       "  <tbody>\n",
       "    <tr>\n",
       "      <th>253</th>\n",
       "      <td>abstractive</td>\n",
       "      <td>abstractive</td>\n",
       "      <td>0.0</td>\n",
       "      <td>Intel finds chipset problem, says it will cost $700 million to fix</td>\n",
       "      <td>...</td>\n",
       "      <td>1</td>\n",
       "      <td>2020</td>\n",
       "    </tr>\n",
       "    <tr>\n",
       "      <th>7849</th>\n",
       "      <td>abstractive</td>\n",
       "      <td>abstractive</td>\n",
       "      <td>0.0</td>\n",
       "      <td>Spring: Season of Bias in Girls' Soccer?</td>\n",
       "      <td>sprino</td>\n",
       "      <td>1</td>\n",
       "      <td>1363</td>\n",
       "    </tr>\n",
       "  </tbody>\n",
       "</table>\n",
       "</div>"
      ],
      "text/plain": [
       "      density_bin modified_density_bin  coverage  \\\n",
       "253   abstractive          abstractive       0.0   \n",
       "7849  abstractive          abstractive       0.0   \n",
       "\n",
       "                                                                   title  \\\n",
       "253   Intel finds chipset problem, says it will cost $700 million to fix   \n",
       "7849                            Spring: Season of Bias in Girls' Soccer?   \n",
       "\n",
       "     summary  summary_len  text_len  \n",
       "253      ...            1      2020  \n",
       "7849  sprino            1      1363  "
      ]
     },
     "execution_count": 19,
     "metadata": {},
     "output_type": "execute_result"
    }
   ],
   "source": [
    "df[df[\"modified_density_bin\"] == \"abstractive\"].sort_values(by=\"summary_len\", ascending=True)[\n",
    "    [\"density_bin\", \"modified_density_bin\", \"coverage\", \"title\", \"summary\", \"summary_len\", \"text_len\"]\n",
    "].head(2)"
   ]
  },
  {
   "cell_type": "code",
   "execution_count": 20,
   "id": "c618b7d7",
   "metadata": {},
   "outputs": [
    {
     "data": {
      "text/html": [
       "<div>\n",
       "<style scoped>\n",
       "    .dataframe tbody tr th:only-of-type {\n",
       "        vertical-align: middle;\n",
       "    }\n",
       "\n",
       "    .dataframe tbody tr th {\n",
       "        vertical-align: top;\n",
       "    }\n",
       "\n",
       "    .dataframe thead th {\n",
       "        text-align: right;\n",
       "    }\n",
       "</style>\n",
       "<table border=\"1\" class=\"dataframe\">\n",
       "  <thead>\n",
       "    <tr style=\"text-align: right;\">\n",
       "      <th></th>\n",
       "      <th>density_bin</th>\n",
       "      <th>modified_density_bin</th>\n",
       "      <th>coverage</th>\n",
       "      <th>title</th>\n",
       "      <th>summary</th>\n",
       "      <th>summary_len</th>\n",
       "      <th>text_len</th>\n",
       "    </tr>\n",
       "  </thead>\n",
       "  <tbody>\n",
       "    <tr>\n",
       "      <th>1528</th>\n",
       "      <td>abstractive</td>\n",
       "      <td>abstractive</td>\n",
       "      <td>0.630390</td>\n",
       "      <td>Conn. gunman broke in, shot kids multiple times</td>\n",
       "      <td>(AP) &amp;acirc;�� The gunman behind the Connecticut elementary school massacre stormed into the building and shot 20 children at least twice with a high-powered rifle, executing some at close range and killing adults who tried to stop the carnage, authorities said Saturday.  The tragedy has plunged Newtown into mourning and added the picturesque New England community of handsome Colonial homes, red-brick sidewalks and 27,000 people to the grim map of towns where mass shootings in recent years have periodically reignited the national debate over gun control but led to little change.  Families as far away as Puerto Rico planned funerals for victims who still had their baby teeth, world leaders extended condolences, and vigils were held around the U.S.  Police shed no light on what triggered Adam Lanza, 20, to carry out the second-deadliest school shooting in U.S. history, though state police Lt. Paul Vance said investigators had found &amp;quot;very good evidence ... that our investigators will be able to use in painting the complete picture, the how and, more importantly, the why.&amp;quot;  [...] another law enforcement official, speaking on condition of anonymity, said investigators have found no note or manifesto from Lanza of the sort they have come to expect after murderous rampages such as the Virginia Tech bloodbath in 2007 that left 33 people dead.  Lanza shot to death his mother, Nancy Lanza, at the home they shared, then drove to the school in her car with at least three of her guns, forced his way in and opened fire, authorities said.  Education officials said they had found no link between Lanza's mother and the school, contrary to news reports that said she was a teacher there.  Lanza was believed to have suffered from a personality disorder, said a law enforcement official who spoke on condition of anonymity.  Another law enforcement official, also speaking on condition of anonymity, said Lanza had been diagnosed with Asperger's, a mild form of autism often characterized by social awkwardness.  The law enforcement officials insisted on anonymity because they were not authorized to discuss the unfolding investigation.  Lanza's family was struggling to make sense of what happened and &amp;quot;trying to find whatever answers we can,&amp;quot; his father, Peter Lanza, said in a statement late Saturday that also expressed sympathy for the victims' families.  Asked whether the town would recover, Maryann Jacob, a clerk in the school library who took cover in a storage room with 18 fourth-graders during the shooting rampage, said: We have to.</td>\n",
       "      <td>487</td>\n",
       "      <td>10604</td>\n",
       "    </tr>\n",
       "    <tr>\n",
       "      <th>4596</th>\n",
       "      <td>abstractive</td>\n",
       "      <td>abstractive</td>\n",
       "      <td>0.476038</td>\n",
       "      <td>How Dandelion Chocolate goes from beans to bars</td>\n",
       "      <td>How Dandelion Chocolate goes from beans to bars  Like so many Bay Area startups, Dandelion Chocolate founders Todd Masonis and Cameron Ring got their start in a garage in Silicon Valley.  Cocoa and sugar are the only ingredients in Dandelion Chocolate’s bars.  Chocolatiers, on the other hand, jump into the process later, buying pre-made chocolate and shaping it into treats.  “Not a lot of people make chocolate, and very few of them really see the process,” said Masonis, the CEO.  The first thing you notice when you enter the cafe is the smell: chocolate.  The cafe, which opened in early 2013, is an open space, with wooden beams providing support and atmosphere.  The counter has a modern feel, with pastries laid out on simple wooden plates.  Sacks of beans are stacked on the floor, and bright orange buckets hold beans ready for sorting.  Sorters throw out about 30 percent of every batch, picking out chipped beans, sticks and garbage, according to Dandelion’s Jennifer Roy.  Beans are then deposited in a winnowing machine that separates husks from nibs — the part of the bean that provides chocolate’s flavor.  Metal cylinders called melangers grind the nibs and sugar.  Chocolate is stored in a block form, then tempered to give it the familiar chocolate texture and snap.  From there, the chocolate is molded, foiled, wrapped and shipped to shops across the country.  The chalkboard also describes chocolate classes offered at the factory.  A mezzanine above the factory serves as a classroom, break room, meeting room and office.</td>\n",
       "      <td>313</td>\n",
       "      <td>887</td>\n",
       "    </tr>\n",
       "  </tbody>\n",
       "</table>\n",
       "</div>"
      ],
      "text/plain": [
       "      density_bin modified_density_bin  coverage  \\\n",
       "1528  abstractive          abstractive  0.630390   \n",
       "4596  abstractive          abstractive  0.476038   \n",
       "\n",
       "                                                title  \\\n",
       "1528  Conn. gunman broke in, shot kids multiple times   \n",
       "4596  How Dandelion Chocolate goes from beans to bars   \n",
       "\n",
       "                                                                                                                                                                                                                                                                                                                                                                                                                                                                                                                                                                                                                                                                                                                                                                                                                                                                                                                                                                                                                                                                                                                                                                                                                                                                                                                                                                                                                                                                                                                                                                                                                                                                                                                                                                                                                                                                                                                                                                                                                                                                                                                                                                                                                                                                                                                                                                                                                                                                                                                                                                                                                                                                               summary  \\\n",
       "1528  (AP) &acirc;�� The gunman behind the Connecticut elementary school massacre stormed into the building and shot 20 children at least twice with a high-powered rifle, executing some at close range and killing adults who tried to stop the carnage, authorities said Saturday.  The tragedy has plunged Newtown into mourning and added the picturesque New England community of handsome Colonial homes, red-brick sidewalks and 27,000 people to the grim map of towns where mass shootings in recent years have periodically reignited the national debate over gun control but led to little change.  Families as far away as Puerto Rico planned funerals for victims who still had their baby teeth, world leaders extended condolences, and vigils were held around the U.S.  Police shed no light on what triggered Adam Lanza, 20, to carry out the second-deadliest school shooting in U.S. history, though state police Lt. Paul Vance said investigators had found &quot;very good evidence ... that our investigators will be able to use in painting the complete picture, the how and, more importantly, the why.&quot;  [...] another law enforcement official, speaking on condition of anonymity, said investigators have found no note or manifesto from Lanza of the sort they have come to expect after murderous rampages such as the Virginia Tech bloodbath in 2007 that left 33 people dead.  Lanza shot to death his mother, Nancy Lanza, at the home they shared, then drove to the school in her car with at least three of her guns, forced his way in and opened fire, authorities said.  Education officials said they had found no link between Lanza's mother and the school, contrary to news reports that said she was a teacher there.  Lanza was believed to have suffered from a personality disorder, said a law enforcement official who spoke on condition of anonymity.  Another law enforcement official, also speaking on condition of anonymity, said Lanza had been diagnosed with Asperger's, a mild form of autism often characterized by social awkwardness.  The law enforcement officials insisted on anonymity because they were not authorized to discuss the unfolding investigation.  Lanza's family was struggling to make sense of what happened and &quot;trying to find whatever answers we can,&quot; his father, Peter Lanza, said in a statement late Saturday that also expressed sympathy for the victims' families.  Asked whether the town would recover, Maryann Jacob, a clerk in the school library who took cover in a storage room with 18 fourth-graders during the shooting rampage, said: We have to.   \n",
       "4596                                                                                                                                                                                                                                                                                                                                                                                                                                                                                                                                                                                                                                                                                                                                                                                                                                                                                                                                                                                                                                                                         How Dandelion Chocolate goes from beans to bars  Like so many Bay Area startups, Dandelion Chocolate founders Todd Masonis and Cameron Ring got their start in a garage in Silicon Valley.  Cocoa and sugar are the only ingredients in Dandelion Chocolate’s bars.  Chocolatiers, on the other hand, jump into the process later, buying pre-made chocolate and shaping it into treats.  “Not a lot of people make chocolate, and very few of them really see the process,” said Masonis, the CEO.  The first thing you notice when you enter the cafe is the smell: chocolate.  The cafe, which opened in early 2013, is an open space, with wooden beams providing support and atmosphere.  The counter has a modern feel, with pastries laid out on simple wooden plates.  Sacks of beans are stacked on the floor, and bright orange buckets hold beans ready for sorting.  Sorters throw out about 30 percent of every batch, picking out chipped beans, sticks and garbage, according to Dandelion’s Jennifer Roy.  Beans are then deposited in a winnowing machine that separates husks from nibs — the part of the bean that provides chocolate’s flavor.  Metal cylinders called melangers grind the nibs and sugar.  Chocolate is stored in a block form, then tempered to give it the familiar chocolate texture and snap.  From there, the chocolate is molded, foiled, wrapped and shipped to shops across the country.  The chalkboard also describes chocolate classes offered at the factory.  A mezzanine above the factory serves as a classroom, break room, meeting room and office.   \n",
       "\n",
       "      summary_len  text_len  \n",
       "1528          487     10604  \n",
       "4596          313       887  "
      ]
     },
     "execution_count": 20,
     "metadata": {},
     "output_type": "execute_result"
    }
   ],
   "source": [
    "df[df[\"modified_density_bin\"] == \"abstractive\"].sort_values(by=\"summary_len\", ascending=False)[\n",
    "    [\"density_bin\", \"modified_density_bin\", \"coverage\", \"title\", \"summary\", \"summary_len\", \"text_len\"]\n",
    "].head(2)"
   ]
  },
  {
   "cell_type": "markdown",
   "id": "ca88845e",
   "metadata": {},
   "source": [
    "# More central summaries (according to number of tokens in the summary)"
   ]
  },
  {
   "cell_type": "code",
   "execution_count": 21,
   "id": "5a72e725",
   "metadata": {},
   "outputs": [
    {
     "data": {
      "text/html": [
       "<div>\n",
       "<style scoped>\n",
       "    .dataframe tbody tr th:only-of-type {\n",
       "        vertical-align: middle;\n",
       "    }\n",
       "\n",
       "    .dataframe tbody tr th {\n",
       "        vertical-align: top;\n",
       "    }\n",
       "\n",
       "    .dataframe thead th {\n",
       "        text-align: right;\n",
       "    }\n",
       "</style>\n",
       "<table border=\"1\" class=\"dataframe\">\n",
       "  <thead>\n",
       "    <tr style=\"text-align: right;\">\n",
       "      <th></th>\n",
       "      <th>density_bin</th>\n",
       "      <th>modified_density_bin</th>\n",
       "      <th>coverage</th>\n",
       "      <th>title</th>\n",
       "      <th>summary</th>\n",
       "      <th>summary_len</th>\n",
       "      <th>text_len</th>\n",
       "    </tr>\n",
       "  </thead>\n",
       "  <tbody>\n",
       "    <tr>\n",
       "      <th>3805</th>\n",
       "      <td>abstractive</td>\n",
       "      <td>abstractive</td>\n",
       "      <td>0.807692</td>\n",
       "      <td>Mending Fences at World Bank</td>\n",
       "      <td>Robert B. Zoellick, the new chief of the World Bank, will need to smooth ruffled feathers left by his predecessor Paul D. Wolfowitz.</td>\n",
       "      <td>26</td>\n",
       "      <td>1228</td>\n",
       "    </tr>\n",
       "    <tr>\n",
       "      <th>3172</th>\n",
       "      <td>abstractive</td>\n",
       "      <td>abstractive</td>\n",
       "      <td>0.615385</td>\n",
       "      <td>Senate sends repeal of tax reports to Obama</td>\n",
       "      <td>Senate sends repeal of tax reports to Obama  - On Politics: Covering the US Congress, Governors, and the 2010 Election - USATODAY.com</td>\n",
       "      <td>26</td>\n",
       "      <td>316</td>\n",
       "    </tr>\n",
       "    <tr>\n",
       "      <th>3710</th>\n",
       "      <td>abstractive</td>\n",
       "      <td>abstractive</td>\n",
       "      <td>0.730769</td>\n",
       "      <td>Nación ESPN pitches for sports-loving, code-switching Latino youth</td>\n",
       "      <td>The new weekly show on ESPN2 is presented in English but slipping easily into Spanish is part of its makeup, much like its target audience</td>\n",
       "      <td>26</td>\n",
       "      <td>803</td>\n",
       "    </tr>\n",
       "    <tr>\n",
       "      <th>5473</th>\n",
       "      <td>abstractive</td>\n",
       "      <td>mixed</td>\n",
       "      <td>0.923077</td>\n",
       "      <td>5th teen held in alleged NY gang rape</td>\n",
       "      <td>A fifth person is in custody in connection with a woman's alleged gang rape in a Brooklyn playground, a law enforcement official said.</td>\n",
       "      <td>26</td>\n",
       "      <td>614</td>\n",
       "    </tr>\n",
       "    <tr>\n",
       "      <th>678</th>\n",
       "      <td>abstractive</td>\n",
       "      <td>abstractive</td>\n",
       "      <td>0.769231</td>\n",
       "      <td>Villa poised for Atletico Madrid move</td>\n",
       "      <td>Barcelona have reached an agreement in principle for the transfer of striker David Villa to Atletico Madrid. Barcelona striker Villa poised for Atletico Madrid move</td>\n",
       "      <td>26</td>\n",
       "      <td>150</td>\n",
       "    </tr>\n",
       "  </tbody>\n",
       "</table>\n",
       "</div>"
      ],
      "text/plain": [
       "      density_bin modified_density_bin  coverage  \\\n",
       "3805  abstractive          abstractive  0.807692   \n",
       "3172  abstractive          abstractive  0.615385   \n",
       "3710  abstractive          abstractive  0.730769   \n",
       "5473  abstractive                mixed  0.923077   \n",
       "678   abstractive          abstractive  0.769231   \n",
       "\n",
       "                                                                   title  \\\n",
       "3805                                        Mending Fences at World Bank   \n",
       "3172                         Senate sends repeal of tax reports to Obama   \n",
       "3710  Nación ESPN pitches for sports-loving, code-switching Latino youth   \n",
       "5473                               5th teen held in alleged NY gang rape   \n",
       "678                                Villa poised for Atletico Madrid move   \n",
       "\n",
       "                                                                                                                                                                   summary  \\\n",
       "3805                                  Robert B. Zoellick, the new chief of the World Bank, will need to smooth ruffled feathers left by his predecessor Paul D. Wolfowitz.   \n",
       "3172                                 Senate sends repeal of tax reports to Obama  - On Politics: Covering the US Congress, Governors, and the 2010 Election - USATODAY.com   \n",
       "3710                            The new weekly show on ESPN2 is presented in English but slipping easily into Spanish is part of its makeup, much like its target audience   \n",
       "5473                                A fifth person is in custody in connection with a woman's alleged gang rape in a Brooklyn playground, a law enforcement official said.   \n",
       "678   Barcelona have reached an agreement in principle for the transfer of striker David Villa to Atletico Madrid. Barcelona striker Villa poised for Atletico Madrid move   \n",
       "\n",
       "      summary_len  text_len  \n",
       "3805           26      1228  \n",
       "3172           26       316  \n",
       "3710           26       803  \n",
       "5473           26       614  \n",
       "678            26       150  "
      ]
     },
     "execution_count": 21,
     "metadata": {},
     "output_type": "execute_result"
    }
   ],
   "source": [
    "df[df[\"density_bin\"] == \"abstractive\"].sort_values(by=\"summary_len\", ascending=False)[\n",
    "    [\"density_bin\", \"modified_density_bin\", \"coverage\", \"title\", \"summary\", \"summary_len\", \"text_len\"]\n",
    "].head(1000).tail(5)"
   ]
  },
  {
   "cell_type": "code",
   "execution_count": 22,
   "id": "a98ccb3f",
   "metadata": {},
   "outputs": [
    {
     "data": {
      "text/html": [
       "<div>\n",
       "<style scoped>\n",
       "    .dataframe tbody tr th:only-of-type {\n",
       "        vertical-align: middle;\n",
       "    }\n",
       "\n",
       "    .dataframe tbody tr th {\n",
       "        vertical-align: top;\n",
       "    }\n",
       "\n",
       "    .dataframe thead th {\n",
       "        text-align: right;\n",
       "    }\n",
       "</style>\n",
       "<table border=\"1\" class=\"dataframe\">\n",
       "  <thead>\n",
       "    <tr style=\"text-align: right;\">\n",
       "      <th></th>\n",
       "      <th>density_bin</th>\n",
       "      <th>modified_density_bin</th>\n",
       "      <th>coverage</th>\n",
       "      <th>title</th>\n",
       "      <th>summary</th>\n",
       "      <th>summary_len</th>\n",
       "      <th>text_len</th>\n",
       "    </tr>\n",
       "  </thead>\n",
       "  <tbody>\n",
       "    <tr>\n",
       "      <th>6564</th>\n",
       "      <td>abstractive</td>\n",
       "      <td>mixed</td>\n",
       "      <td>0.666667</td>\n",
       "      <td>Indoor Tanning: Risk For Skin Cancer is High Even Without Sunburns</td>\n",
       "      <td>New research shows indoor tanning can cause skin cancer even if you never get burnt</td>\n",
       "      <td>15</td>\n",
       "      <td>515</td>\n",
       "    </tr>\n",
       "    <tr>\n",
       "      <th>966</th>\n",
       "      <td>abstractive</td>\n",
       "      <td>abstractive</td>\n",
       "      <td>0.666667</td>\n",
       "      <td>Newt Gingrich's strategy for another Republican Revolution; 2+2=4 -- full video</td>\n",
       "      <td>Former GOP Speaker details plans to defeat Obama -- and a 2012 presidential candidacy?</td>\n",
       "      <td>15</td>\n",
       "      <td>351</td>\n",
       "    </tr>\n",
       "    <tr>\n",
       "      <th>4563</th>\n",
       "      <td>abstractive</td>\n",
       "      <td>abstractive</td>\n",
       "      <td>0.533333</td>\n",
       "      <td>Court Limits Public-Worker Claims</td>\n",
       "      <td>Continuing coverage of the Supreme Court nomination and confirmation process from The Washington Post.</td>\n",
       "      <td>15</td>\n",
       "      <td>742</td>\n",
       "    </tr>\n",
       "    <tr>\n",
       "      <th>7287</th>\n",
       "      <td>abstractive</td>\n",
       "      <td>abstractive</td>\n",
       "      <td>0.666667</td>\n",
       "      <td>So, is Donetsk the next Crimea?</td>\n",
       "      <td>The eastern Ukrainian city is declared the Donetsk Peopleâ��s Republic.\"</td>\n",
       "      <td>15</td>\n",
       "      <td>463</td>\n",
       "    </tr>\n",
       "    <tr>\n",
       "      <th>9932</th>\n",
       "      <td>abstractive</td>\n",
       "      <td>mixed</td>\n",
       "      <td>0.666667</td>\n",
       "      <td>Philip Zimbardo Thinks We All Can Be Evil</td>\n",
       "      <td>The psychologist on what the Stanford prison experiment continues to reveal about human nature.</td>\n",
       "      <td>15</td>\n",
       "      <td>752</td>\n",
       "    </tr>\n",
       "  </tbody>\n",
       "</table>\n",
       "</div>"
      ],
      "text/plain": [
       "      density_bin modified_density_bin  coverage  \\\n",
       "6564  abstractive                mixed  0.666667   \n",
       "966   abstractive          abstractive  0.666667   \n",
       "4563  abstractive          abstractive  0.533333   \n",
       "7287  abstractive          abstractive  0.666667   \n",
       "9932  abstractive                mixed  0.666667   \n",
       "\n",
       "                                                                                title  \\\n",
       "6564               Indoor Tanning: Risk For Skin Cancer is High Even Without Sunburns   \n",
       "966   Newt Gingrich's strategy for another Republican Revolution; 2+2=4 -- full video   \n",
       "4563                                                Court Limits Public-Worker Claims   \n",
       "7287                                                  So, is Donetsk the next Crimea?   \n",
       "9932                                        Philip Zimbardo Thinks We All Can Be Evil   \n",
       "\n",
       "                                                                                                     summary  \\\n",
       "6564                     New research shows indoor tanning can cause skin cancer even if you never get burnt   \n",
       "966                   Former GOP Speaker details plans to defeat Obama -- and a 2012 presidential candidacy?   \n",
       "4563  Continuing coverage of the Supreme Court nomination and confirmation process from The Washington Post.   \n",
       "7287                                The eastern Ukrainian city is declared the Donetsk Peopleâ��s Republic.\"   \n",
       "9932         The psychologist on what the Stanford prison experiment continues to reveal about human nature.   \n",
       "\n",
       "      summary_len  text_len  \n",
       "6564           15       515  \n",
       "966            15       351  \n",
       "4563           15       742  \n",
       "7287           15       463  \n",
       "9932           15       752  "
      ]
     },
     "execution_count": 22,
     "metadata": {},
     "output_type": "execute_result"
    }
   ],
   "source": [
    "df[df[\"density_bin\"] == \"abstractive\"].sort_values(by=\"summary_len\", ascending=False)[\n",
    "    [\"density_bin\", \"modified_density_bin\", \"coverage\", \"title\", \"summary\", \"summary_len\", \"text_len\"]\n",
    "].tail(1000).head(5)"
   ]
  },
  {
   "cell_type": "markdown",
   "id": "fd77ab53",
   "metadata": {},
   "source": [
    "# Check how the coverage/ density are distributed"
   ]
  },
  {
   "cell_type": "code",
   "execution_count": 23,
   "id": "a923d4e4",
   "metadata": {},
   "outputs": [],
   "source": [
    "import seaborn as sns"
   ]
  },
  {
   "cell_type": "code",
   "execution_count": 24,
   "id": "253875e0",
   "metadata": {},
   "outputs": [
    {
     "data": {
      "text/plain": [
       "<seaborn.axisgrid.PairGrid at 0x12c0a15e0>"
      ]
     },
     "execution_count": 24,
     "metadata": {},
     "output_type": "execute_result"
    },
    {
     "data": {
      "image/png": "[encoded data removed]",
      "text/plain": [
       "<Figure size 452x360 with 6 Axes>"
      ]
     },
     "metadata": {
      "needs_background": "light"
     },
     "output_type": "display_data"
    }
   ],
   "source": [
    "sns.pairplot(\n",
    "    df[[\"density\", \"coverage\", \"density_bin\"]],\n",
    "    hue=\"density_bin\",\n",
    "    hue_order=[\"extractive\", \"mixed\", \"abstractive\"],\n",
    ")"
   ]
  },
  {
   "cell_type": "code",
   "execution_count": 25,
   "id": "c30349d5",
   "metadata": {},
   "outputs": [
    {
     "data": {
      "text/plain": [
       "<seaborn.axisgrid.PairGrid at 0x12c19dbb0>"
      ]
     },
     "execution_count": 25,
     "metadata": {},
     "output_type": "execute_result"
    },
    {
     "data": {
      "image/png": "[encoded data removed]",
      "text/plain": [
       "<Figure size 474.125x360 with 6 Axes>"
      ]
     },
     "metadata": {
      "needs_background": "light"
     },
     "output_type": "display_data"
    }
   ],
   "source": [
    "sns.pairplot(\n",
    "    df[[\"modified_density\", \"coverage\", \"modified_density_bin\"]],\n",
    "    hue=\"modified_density_bin\",\n",
    "    hue_order=[\"extractive\", \"mixed\", \"abstractive\"],\n",
    ")"
   ]
  }
 ],
 "metadata": {
  "kernelspec": {
   "display_name": "Python 3 (ipykernel)",
   "language": "python",
   "name": "python3"
  },
  "language_info": {
   "codemirror_mode": {
    "name": "ipython",
    "version": 3
   },
   "file_extension": ".py",
   "mimetype": "text/x-python",
   "name": "python",
   "nbconvert_exporter": "python",
   "pygments_lexer": "ipython3",
   "version": "3.8.9"
  }
 },
 "nbformat": 4,
 "nbformat_minor": 5
}
